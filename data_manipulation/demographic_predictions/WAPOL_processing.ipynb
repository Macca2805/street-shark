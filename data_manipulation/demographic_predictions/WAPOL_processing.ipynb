{
 "cells": [
  {
   "cell_type": "code",
   "execution_count": 2,
   "metadata": {
    "collapsed": true
   },
   "outputs": [],
   "source": [
    "import numpy as np\n",
    "import pandas as pd\n",
    "from pandas import Series,DataFrame"
   ]
  },
  {
   "cell_type": "code",
   "execution_count": 3,
   "metadata": {
    "collapsed": false
   },
   "outputs": [
    {
     "ename": "IOError",
     "evalue": "File CAD_INCIDENTS.csv does not exist",
     "output_type": "error",
     "traceback": [
      "\u001b[1;31m---------------------------------------------------------------------------\u001b[0m",
      "\u001b[1;31mIOError\u001b[0m                                   Traceback (most recent call last)",
      "\u001b[1;32m<ipython-input-3-7afa5854f6b7>\u001b[0m in \u001b[0;36m<module>\u001b[1;34m()\u001b[0m\n\u001b[1;32m----> 1\u001b[1;33m \u001b[0mincidents\u001b[0m\u001b[1;33m=\u001b[0m\u001b[0mpd\u001b[0m\u001b[1;33m.\u001b[0m\u001b[0mread_csv\u001b[0m\u001b[1;33m(\u001b[0m\u001b[1;34m\"CAD_INCIDENTS.csv\"\u001b[0m\u001b[1;33m,\u001b[0m\u001b[0msep\u001b[0m\u001b[1;33m=\u001b[0m\u001b[1;34m','\u001b[0m\u001b[1;33m,\u001b[0m\u001b[0mnrows\u001b[0m\u001b[1;33m=\u001b[0m\u001b[1;36m100\u001b[0m\u001b[1;33m)\u001b[0m\u001b[1;33m;\u001b[0m\u001b[1;33m\u001b[0m\u001b[0m\n\u001b[0m",
      "\u001b[1;32mC:\\Anaconda2\\lib\\site-packages\\pandas\\io\\parsers.pyc\u001b[0m in \u001b[0;36mparser_f\u001b[1;34m(filepath_or_buffer, sep, dialect, compression, doublequote, escapechar, quotechar, quoting, skipinitialspace, lineterminator, header, index_col, names, prefix, skiprows, skipfooter, skip_footer, na_values, true_values, false_values, delimiter, converters, dtype, usecols, engine, delim_whitespace, as_recarray, na_filter, compact_ints, use_unsigned, low_memory, buffer_lines, warn_bad_lines, error_bad_lines, keep_default_na, thousands, comment, decimal, parse_dates, keep_date_col, dayfirst, date_parser, memory_map, float_precision, nrows, iterator, chunksize, verbose, encoding, squeeze, mangle_dupe_cols, tupleize_cols, infer_datetime_format, skip_blank_lines)\u001b[0m\n\u001b[0;32m    496\u001b[0m                     skip_blank_lines=skip_blank_lines)\n\u001b[0;32m    497\u001b[0m \u001b[1;33m\u001b[0m\u001b[0m\n\u001b[1;32m--> 498\u001b[1;33m         \u001b[1;32mreturn\u001b[0m \u001b[0m_read\u001b[0m\u001b[1;33m(\u001b[0m\u001b[0mfilepath_or_buffer\u001b[0m\u001b[1;33m,\u001b[0m \u001b[0mkwds\u001b[0m\u001b[1;33m)\u001b[0m\u001b[1;33m\u001b[0m\u001b[0m\n\u001b[0m\u001b[0;32m    499\u001b[0m \u001b[1;33m\u001b[0m\u001b[0m\n\u001b[0;32m    500\u001b[0m     \u001b[0mparser_f\u001b[0m\u001b[1;33m.\u001b[0m\u001b[0m__name__\u001b[0m \u001b[1;33m=\u001b[0m \u001b[0mname\u001b[0m\u001b[1;33m\u001b[0m\u001b[0m\n",
      "\u001b[1;32mC:\\Anaconda2\\lib\\site-packages\\pandas\\io\\parsers.pyc\u001b[0m in \u001b[0;36m_read\u001b[1;34m(filepath_or_buffer, kwds)\u001b[0m\n\u001b[0;32m    273\u001b[0m \u001b[1;33m\u001b[0m\u001b[0m\n\u001b[0;32m    274\u001b[0m     \u001b[1;31m# Create the parser.\u001b[0m\u001b[1;33m\u001b[0m\u001b[1;33m\u001b[0m\u001b[0m\n\u001b[1;32m--> 275\u001b[1;33m     \u001b[0mparser\u001b[0m \u001b[1;33m=\u001b[0m \u001b[0mTextFileReader\u001b[0m\u001b[1;33m(\u001b[0m\u001b[0mfilepath_or_buffer\u001b[0m\u001b[1;33m,\u001b[0m \u001b[1;33m**\u001b[0m\u001b[0mkwds\u001b[0m\u001b[1;33m)\u001b[0m\u001b[1;33m\u001b[0m\u001b[0m\n\u001b[0m\u001b[0;32m    276\u001b[0m \u001b[1;33m\u001b[0m\u001b[0m\n\u001b[0;32m    277\u001b[0m     \u001b[1;32mif\u001b[0m \u001b[1;33m(\u001b[0m\u001b[0mnrows\u001b[0m \u001b[1;32mis\u001b[0m \u001b[1;32mnot\u001b[0m \u001b[0mNone\u001b[0m\u001b[1;33m)\u001b[0m \u001b[1;32mand\u001b[0m \u001b[1;33m(\u001b[0m\u001b[0mchunksize\u001b[0m \u001b[1;32mis\u001b[0m \u001b[1;32mnot\u001b[0m \u001b[0mNone\u001b[0m\u001b[1;33m)\u001b[0m\u001b[1;33m:\u001b[0m\u001b[1;33m\u001b[0m\u001b[0m\n",
      "\u001b[1;32mC:\\Anaconda2\\lib\\site-packages\\pandas\\io\\parsers.pyc\u001b[0m in \u001b[0;36m__init__\u001b[1;34m(self, f, engine, **kwds)\u001b[0m\n\u001b[0;32m    588\u001b[0m             \u001b[0mself\u001b[0m\u001b[1;33m.\u001b[0m\u001b[0moptions\u001b[0m\u001b[1;33m[\u001b[0m\u001b[1;34m'has_index_names'\u001b[0m\u001b[1;33m]\u001b[0m \u001b[1;33m=\u001b[0m \u001b[0mkwds\u001b[0m\u001b[1;33m[\u001b[0m\u001b[1;34m'has_index_names'\u001b[0m\u001b[1;33m]\u001b[0m\u001b[1;33m\u001b[0m\u001b[0m\n\u001b[0;32m    589\u001b[0m \u001b[1;33m\u001b[0m\u001b[0m\n\u001b[1;32m--> 590\u001b[1;33m         \u001b[0mself\u001b[0m\u001b[1;33m.\u001b[0m\u001b[0m_make_engine\u001b[0m\u001b[1;33m(\u001b[0m\u001b[0mself\u001b[0m\u001b[1;33m.\u001b[0m\u001b[0mengine\u001b[0m\u001b[1;33m)\u001b[0m\u001b[1;33m\u001b[0m\u001b[0m\n\u001b[0m\u001b[0;32m    591\u001b[0m \u001b[1;33m\u001b[0m\u001b[0m\n\u001b[0;32m    592\u001b[0m     \u001b[1;32mdef\u001b[0m \u001b[0m_get_options_with_defaults\u001b[0m\u001b[1;33m(\u001b[0m\u001b[0mself\u001b[0m\u001b[1;33m,\u001b[0m \u001b[0mengine\u001b[0m\u001b[1;33m)\u001b[0m\u001b[1;33m:\u001b[0m\u001b[1;33m\u001b[0m\u001b[0m\n",
      "\u001b[1;32mC:\\Anaconda2\\lib\\site-packages\\pandas\\io\\parsers.pyc\u001b[0m in \u001b[0;36m_make_engine\u001b[1;34m(self, engine)\u001b[0m\n\u001b[0;32m    729\u001b[0m     \u001b[1;32mdef\u001b[0m \u001b[0m_make_engine\u001b[0m\u001b[1;33m(\u001b[0m\u001b[0mself\u001b[0m\u001b[1;33m,\u001b[0m \u001b[0mengine\u001b[0m\u001b[1;33m=\u001b[0m\u001b[1;34m'c'\u001b[0m\u001b[1;33m)\u001b[0m\u001b[1;33m:\u001b[0m\u001b[1;33m\u001b[0m\u001b[0m\n\u001b[0;32m    730\u001b[0m         \u001b[1;32mif\u001b[0m \u001b[0mengine\u001b[0m \u001b[1;33m==\u001b[0m \u001b[1;34m'c'\u001b[0m\u001b[1;33m:\u001b[0m\u001b[1;33m\u001b[0m\u001b[0m\n\u001b[1;32m--> 731\u001b[1;33m             \u001b[0mself\u001b[0m\u001b[1;33m.\u001b[0m\u001b[0m_engine\u001b[0m \u001b[1;33m=\u001b[0m \u001b[0mCParserWrapper\u001b[0m\u001b[1;33m(\u001b[0m\u001b[0mself\u001b[0m\u001b[1;33m.\u001b[0m\u001b[0mf\u001b[0m\u001b[1;33m,\u001b[0m \u001b[1;33m**\u001b[0m\u001b[0mself\u001b[0m\u001b[1;33m.\u001b[0m\u001b[0moptions\u001b[0m\u001b[1;33m)\u001b[0m\u001b[1;33m\u001b[0m\u001b[0m\n\u001b[0m\u001b[0;32m    732\u001b[0m         \u001b[1;32melse\u001b[0m\u001b[1;33m:\u001b[0m\u001b[1;33m\u001b[0m\u001b[0m\n\u001b[0;32m    733\u001b[0m             \u001b[1;32mif\u001b[0m \u001b[0mengine\u001b[0m \u001b[1;33m==\u001b[0m \u001b[1;34m'python'\u001b[0m\u001b[1;33m:\u001b[0m\u001b[1;33m\u001b[0m\u001b[0m\n",
      "\u001b[1;32mC:\\Anaconda2\\lib\\site-packages\\pandas\\io\\parsers.pyc\u001b[0m in \u001b[0;36m__init__\u001b[1;34m(self, src, **kwds)\u001b[0m\n\u001b[0;32m   1101\u001b[0m         \u001b[0mkwds\u001b[0m\u001b[1;33m[\u001b[0m\u001b[1;34m'allow_leading_cols'\u001b[0m\u001b[1;33m]\u001b[0m \u001b[1;33m=\u001b[0m \u001b[0mself\u001b[0m\u001b[1;33m.\u001b[0m\u001b[0mindex_col\u001b[0m \u001b[1;32mis\u001b[0m \u001b[1;32mnot\u001b[0m \u001b[0mFalse\u001b[0m\u001b[1;33m\u001b[0m\u001b[0m\n\u001b[0;32m   1102\u001b[0m \u001b[1;33m\u001b[0m\u001b[0m\n\u001b[1;32m-> 1103\u001b[1;33m         \u001b[0mself\u001b[0m\u001b[1;33m.\u001b[0m\u001b[0m_reader\u001b[0m \u001b[1;33m=\u001b[0m \u001b[0m_parser\u001b[0m\u001b[1;33m.\u001b[0m\u001b[0mTextReader\u001b[0m\u001b[1;33m(\u001b[0m\u001b[0msrc\u001b[0m\u001b[1;33m,\u001b[0m \u001b[1;33m**\u001b[0m\u001b[0mkwds\u001b[0m\u001b[1;33m)\u001b[0m\u001b[1;33m\u001b[0m\u001b[0m\n\u001b[0m\u001b[0;32m   1104\u001b[0m \u001b[1;33m\u001b[0m\u001b[0m\n\u001b[0;32m   1105\u001b[0m         \u001b[1;31m# XXX\u001b[0m\u001b[1;33m\u001b[0m\u001b[1;33m\u001b[0m\u001b[0m\n",
      "\u001b[1;32mpandas\\parser.pyx\u001b[0m in \u001b[0;36mpandas.parser.TextReader.__cinit__ (pandas\\parser.c:3246)\u001b[1;34m()\u001b[0m\n",
      "\u001b[1;32mpandas\\parser.pyx\u001b[0m in \u001b[0;36mpandas.parser.TextReader._setup_parser_source (pandas\\parser.c:6111)\u001b[1;34m()\u001b[0m\n",
      "\u001b[1;31mIOError\u001b[0m: File CAD_INCIDENTS.csv does not exist"
     ]
    }
   ],
   "source": [
    "incidents=pd.read_csv(\"CAD_INCIDENTS.csv\",sep=',',nrows=100);"
   ]
  },
  {
   "cell_type": "code",
   "execution_count": 3,
   "metadata": {
    "collapsed": false
   },
   "outputs": [
    {
     "data": {
      "text/html": [
       "<div>\n",
       "<table border=\"1\" class=\"dataframe\">\n",
       "  <thead>\n",
       "    <tr style=\"text-align: right;\">\n",
       "      <th></th>\n",
       "      <th>I_Incident_PK</th>\n",
       "      <th>Field_Initiated</th>\n",
       "      <th>Arrive_Stamp_Missing</th>\n",
       "      <th>Not_Dispatched</th>\n",
       "      <th>Pursuit_Incident</th>\n",
       "      <th>Priority_Up_Flag</th>\n",
       "      <th>Scheduled_Flag</th>\n",
       "      <th>Dispatched_Units</th>\n",
       "      <th>Attended_Flag</th>\n",
       "      <th>GOS_Job</th>\n",
       "      <th>...</th>\n",
       "      <th>DateClosed_MONTH_NUM_CAL</th>\n",
       "      <th>DateClosed_MONTH_NUM_FIN</th>\n",
       "      <th>DateClosed_QTR_START</th>\n",
       "      <th>DateClosed_QTR_END</th>\n",
       "      <th>DateClosed_QTR_NUM_CAL</th>\n",
       "      <th>DateClosed_QTR_NUM_FIN</th>\n",
       "      <th>DateClosed_YEAR_CAL</th>\n",
       "      <th>DateClosed_YEAR_FIN</th>\n",
       "      <th>TimeClosed_HOUR</th>\n",
       "      <th>TimeClosed_HOUR_GRP</th>\n",
       "    </tr>\n",
       "  </thead>\n",
       "  <tbody>\n",
       "    <tr>\n",
       "      <th>0</th>\n",
       "      <td>20805661</td>\n",
       "      <td>Y</td>\n",
       "      <td>N</td>\n",
       "      <td>N</td>\n",
       "      <td>N</td>\n",
       "      <td>NaN</td>\n",
       "      <td>0</td>\n",
       "      <td>1.0</td>\n",
       "      <td>Y</td>\n",
       "      <td>N</td>\n",
       "      <td>...</td>\n",
       "      <td>10</td>\n",
       "      <td>4</td>\n",
       "      <td>OCT11</td>\n",
       "      <td>DEC11</td>\n",
       "      <td>4</td>\n",
       "      <td>2</td>\n",
       "      <td>2011</td>\n",
       "      <td>2011-12</td>\n",
       "      <td>1</td>\n",
       "      <td>00:00 - 02:59</td>\n",
       "    </tr>\n",
       "    <tr>\n",
       "      <th>1</th>\n",
       "      <td>20805055</td>\n",
       "      <td>Y</td>\n",
       "      <td>N</td>\n",
       "      <td>N</td>\n",
       "      <td>N</td>\n",
       "      <td>NaN</td>\n",
       "      <td>0</td>\n",
       "      <td>1.0</td>\n",
       "      <td>Y</td>\n",
       "      <td>N</td>\n",
       "      <td>...</td>\n",
       "      <td>10</td>\n",
       "      <td>4</td>\n",
       "      <td>OCT11</td>\n",
       "      <td>DEC11</td>\n",
       "      <td>4</td>\n",
       "      <td>2</td>\n",
       "      <td>2011</td>\n",
       "      <td>2011-12</td>\n",
       "      <td>15</td>\n",
       "      <td>15:00 - 17:59</td>\n",
       "    </tr>\n",
       "    <tr>\n",
       "      <th>2</th>\n",
       "      <td>20821565</td>\n",
       "      <td>N</td>\n",
       "      <td>N</td>\n",
       "      <td>Y</td>\n",
       "      <td>N</td>\n",
       "      <td>NaN</td>\n",
       "      <td>0</td>\n",
       "      <td>NaN</td>\n",
       "      <td>N</td>\n",
       "      <td>N</td>\n",
       "      <td>...</td>\n",
       "      <td>10</td>\n",
       "      <td>4</td>\n",
       "      <td>OCT11</td>\n",
       "      <td>DEC11</td>\n",
       "      <td>4</td>\n",
       "      <td>2</td>\n",
       "      <td>2011</td>\n",
       "      <td>2011-12</td>\n",
       "      <td>9</td>\n",
       "      <td>09:00 - 11:59</td>\n",
       "    </tr>\n",
       "    <tr>\n",
       "      <th>3</th>\n",
       "      <td>20809982</td>\n",
       "      <td>Y</td>\n",
       "      <td>N</td>\n",
       "      <td>N</td>\n",
       "      <td>N</td>\n",
       "      <td>NaN</td>\n",
       "      <td>0</td>\n",
       "      <td>1.0</td>\n",
       "      <td>Y</td>\n",
       "      <td>N</td>\n",
       "      <td>...</td>\n",
       "      <td>10</td>\n",
       "      <td>4</td>\n",
       "      <td>OCT11</td>\n",
       "      <td>DEC11</td>\n",
       "      <td>4</td>\n",
       "      <td>2</td>\n",
       "      <td>2011</td>\n",
       "      <td>2011-12</td>\n",
       "      <td>14</td>\n",
       "      <td>12:00 - 14:59</td>\n",
       "    </tr>\n",
       "    <tr>\n",
       "      <th>4</th>\n",
       "      <td>20809878</td>\n",
       "      <td>Y</td>\n",
       "      <td>N</td>\n",
       "      <td>N</td>\n",
       "      <td>N</td>\n",
       "      <td>NaN</td>\n",
       "      <td>0</td>\n",
       "      <td>1.0</td>\n",
       "      <td>Y</td>\n",
       "      <td>N</td>\n",
       "      <td>...</td>\n",
       "      <td>10</td>\n",
       "      <td>4</td>\n",
       "      <td>OCT11</td>\n",
       "      <td>DEC11</td>\n",
       "      <td>4</td>\n",
       "      <td>2</td>\n",
       "      <td>2011</td>\n",
       "      <td>2011-12</td>\n",
       "      <td>12</td>\n",
       "      <td>12:00 - 14:59</td>\n",
       "    </tr>\n",
       "  </tbody>\n",
       "</table>\n",
       "<p>5 rows × 125 columns</p>\n",
       "</div>"
      ],
      "text/plain": [
       "   I_Incident_PK Field_Initiated Arrive_Stamp_Missing Not_Dispatched  \\\n",
       "0       20805661               Y                    N              N   \n",
       "1       20805055               Y                    N              N   \n",
       "2       20821565               N                    N              Y   \n",
       "3       20809982               Y                    N              N   \n",
       "4       20809878               Y                    N              N   \n",
       "\n",
       "  Pursuit_Incident  Priority_Up_Flag  Scheduled_Flag  Dispatched_Units  \\\n",
       "0                N               NaN               0               1.0   \n",
       "1                N               NaN               0               1.0   \n",
       "2                N               NaN               0               NaN   \n",
       "3                N               NaN               0               1.0   \n",
       "4                N               NaN               0               1.0   \n",
       "\n",
       "  Attended_Flag GOS_Job         ...         DateClosed_MONTH_NUM_CAL  \\\n",
       "0             Y       N         ...                               10   \n",
       "1             Y       N         ...                               10   \n",
       "2             N       N         ...                               10   \n",
       "3             Y       N         ...                               10   \n",
       "4             Y       N         ...                               10   \n",
       "\n",
       "  DateClosed_MONTH_NUM_FIN  DateClosed_QTR_START  DateClosed_QTR_END  \\\n",
       "0                        4                 OCT11               DEC11   \n",
       "1                        4                 OCT11               DEC11   \n",
       "2                        4                 OCT11               DEC11   \n",
       "3                        4                 OCT11               DEC11   \n",
       "4                        4                 OCT11               DEC11   \n",
       "\n",
       "   DateClosed_QTR_NUM_CAL DateClosed_QTR_NUM_FIN DateClosed_YEAR_CAL  \\\n",
       "0                       4                      2                2011   \n",
       "1                       4                      2                2011   \n",
       "2                       4                      2                2011   \n",
       "3                       4                      2                2011   \n",
       "4                       4                      2                2011   \n",
       "\n",
       "   DateClosed_YEAR_FIN TimeClosed_HOUR TimeClosed_HOUR_GRP  \n",
       "0              2011-12               1       00:00 - 02:59  \n",
       "1              2011-12              15       15:00 - 17:59  \n",
       "2              2011-12               9       09:00 - 11:59  \n",
       "3              2011-12              14       12:00 - 14:59  \n",
       "4              2011-12              12       12:00 - 14:59  \n",
       "\n",
       "[5 rows x 125 columns]"
      ]
     },
     "execution_count": 3,
     "metadata": {},
     "output_type": "execute_result"
    }
   ],
   "source": [
    "incidents.head()"
   ]
  },
  {
   "cell_type": "code",
   "execution_count": 4,
   "metadata": {
    "collapsed": false
   },
   "outputs": [],
   "source": [
    "incidents.to_csv(\"incidents_100.csv\",sep=\",\")"
   ]
  },
  {
   "cell_type": "code",
   "execution_count": 5,
   "metadata": {
    "collapsed": false
   },
   "outputs": [],
   "source": [
    "#list(incidents.columns.values)"
   ]
  },
  {
   "cell_type": "code",
   "execution_count": 6,
   "metadata": {
    "collapsed": false
   },
   "outputs": [],
   "source": [
    "offences = pd.read_csv(\"OFFENCES.csv\",sep=',',nrows=10);\n",
    "offences.to_csv(\"offences_100.csv\",sep=',');\n",
    "#list(offences.columns.values)"
   ]
  },
  {
   "cell_type": "code",
   "execution_count": 7,
   "metadata": {
    "collapsed": false
   },
   "outputs": [
    {
     "data": {
      "text/html": [
       "<div>\n",
       "<table border=\"1\" class=\"dataframe\">\n",
       "  <thead>\n",
       "    <tr style=\"text-align: right;\">\n",
       "      <th></th>\n",
       "      <th>IR_Recode</th>\n",
       "      <th>Date Incident Reported</th>\n",
       "      <th>Time Incident Reported</th>\n",
       "      <th>Date Incident Occurred</th>\n",
       "      <th>Time Incident Occurred</th>\n",
       "      <th>Date Incident Occurred To</th>\n",
       "      <th>Time Incident Occurred To</th>\n",
       "      <th>Date Incident Recorded</th>\n",
       "      <th>Time Incident Recorded</th>\n",
       "      <th>Method of Reporting</th>\n",
       "      <th>...</th>\n",
       "      <th>Quarter End (Result)</th>\n",
       "      <th>Quarter Number (Calendar) (Result)</th>\n",
       "      <th>Quarter Number (Financial) (Result)</th>\n",
       "      <th>Year (Calendar) (Result)</th>\n",
       "      <th>Year (Financial) (Result)</th>\n",
       "      <th>Incident Report Type</th>\n",
       "      <th>Source System</th>\n",
       "      <th>Theft_Frm_Veh_flag</th>\n",
       "      <th>SVO</th>\n",
       "      <th>Order_SVO</th>\n",
       "    </tr>\n",
       "  </thead>\n",
       "  <tbody>\n",
       "    <tr>\n",
       "      <th>0</th>\n",
       "      <td>100001</td>\n",
       "      <td>08/01/04</td>\n",
       "      <td>14:27</td>\n",
       "      <td>01/01/00</td>\n",
       "      <td>8:00</td>\n",
       "      <td>05/12/02</td>\n",
       "      <td>16:00</td>\n",
       "      <td>08/01/04</td>\n",
       "      <td>14:30</td>\n",
       "      <td>Letter</td>\n",
       "      <td>...</td>\n",
       "      <td>NaN</td>\n",
       "      <td>NaN</td>\n",
       "      <td>NaN</td>\n",
       "      <td>NaN</td>\n",
       "      <td>NaN</td>\n",
       "      <td>CRIME</td>\n",
       "      <td>IMS</td>\n",
       "      <td>N</td>\n",
       "      <td>Fraud</td>\n",
       "      <td>23.0</td>\n",
       "    </tr>\n",
       "    <tr>\n",
       "      <th>1</th>\n",
       "      <td>100002</td>\n",
       "      <td>05/01/04</td>\n",
       "      <td>18:00</td>\n",
       "      <td>01/01/03</td>\n",
       "      <td>8:00</td>\n",
       "      <td>01/01/03</td>\n",
       "      <td>12:00</td>\n",
       "      <td>05/01/04</td>\n",
       "      <td>19:30</td>\n",
       "      <td>Phone</td>\n",
       "      <td>...</td>\n",
       "      <td>MAR04</td>\n",
       "      <td>1.0</td>\n",
       "      <td>3.0</td>\n",
       "      <td>2004.0</td>\n",
       "      <td>2003-04</td>\n",
       "      <td>CRIME</td>\n",
       "      <td>IMS</td>\n",
       "      <td>N</td>\n",
       "      <td>Dwelling Burglary</td>\n",
       "      <td>11.0</td>\n",
       "    </tr>\n",
       "    <tr>\n",
       "      <th>2</th>\n",
       "      <td>100002</td>\n",
       "      <td>05/01/04</td>\n",
       "      <td>18:00</td>\n",
       "      <td>01/01/03</td>\n",
       "      <td>8:00</td>\n",
       "      <td>01/01/03</td>\n",
       "      <td>12:00</td>\n",
       "      <td>05/01/04</td>\n",
       "      <td>19:30</td>\n",
       "      <td>Phone</td>\n",
       "      <td>...</td>\n",
       "      <td>SEP04</td>\n",
       "      <td>3.0</td>\n",
       "      <td>1.0</td>\n",
       "      <td>2004.0</td>\n",
       "      <td>2004-05</td>\n",
       "      <td>CRIME</td>\n",
       "      <td>IMS</td>\n",
       "      <td>N</td>\n",
       "      <td>NaN</td>\n",
       "      <td>NaN</td>\n",
       "    </tr>\n",
       "    <tr>\n",
       "      <th>3</th>\n",
       "      <td>100003</td>\n",
       "      <td>05/01/04</td>\n",
       "      <td>20:30</td>\n",
       "      <td>05/01/04</td>\n",
       "      <td>9:30</td>\n",
       "      <td>05/01/04</td>\n",
       "      <td>12:30</td>\n",
       "      <td>05/01/04</td>\n",
       "      <td>22:48</td>\n",
       "      <td>Phone</td>\n",
       "      <td>...</td>\n",
       "      <td>MAR04</td>\n",
       "      <td>1.0</td>\n",
       "      <td>3.0</td>\n",
       "      <td>2004.0</td>\n",
       "      <td>2003-04</td>\n",
       "      <td>CRIME</td>\n",
       "      <td>IMS</td>\n",
       "      <td>N</td>\n",
       "      <td>Dwelling Burglary</td>\n",
       "      <td>11.0</td>\n",
       "    </tr>\n",
       "    <tr>\n",
       "      <th>4</th>\n",
       "      <td>100003</td>\n",
       "      <td>05/01/04</td>\n",
       "      <td>20:30</td>\n",
       "      <td>05/01/04</td>\n",
       "      <td>9:30</td>\n",
       "      <td>05/01/04</td>\n",
       "      <td>12:30</td>\n",
       "      <td>05/01/04</td>\n",
       "      <td>22:48</td>\n",
       "      <td>Phone</td>\n",
       "      <td>...</td>\n",
       "      <td>SEP04</td>\n",
       "      <td>3.0</td>\n",
       "      <td>1.0</td>\n",
       "      <td>2004.0</td>\n",
       "      <td>2004-05</td>\n",
       "      <td>CRIME</td>\n",
       "      <td>IMS</td>\n",
       "      <td>N</td>\n",
       "      <td>NaN</td>\n",
       "      <td>NaN</td>\n",
       "    </tr>\n",
       "  </tbody>\n",
       "</table>\n",
       "<p>5 rows × 110 columns</p>\n",
       "</div>"
      ],
      "text/plain": [
       "   IR_Recode Date Incident Reported Time Incident Reported  \\\n",
       "0     100001               08/01/04                  14:27   \n",
       "1     100002               05/01/04                  18:00   \n",
       "2     100002               05/01/04                  18:00   \n",
       "3     100003               05/01/04                  20:30   \n",
       "4     100003               05/01/04                  20:30   \n",
       "\n",
       "  Date Incident Occurred Time Incident Occurred Date Incident Occurred To  \\\n",
       "0               01/01/00                   8:00                  05/12/02   \n",
       "1               01/01/03                   8:00                  01/01/03   \n",
       "2               01/01/03                   8:00                  01/01/03   \n",
       "3               05/01/04                   9:30                  05/01/04   \n",
       "4               05/01/04                   9:30                  05/01/04   \n",
       "\n",
       "  Time Incident Occurred To Date Incident Recorded Time Incident Recorded  \\\n",
       "0                     16:00               08/01/04                  14:30   \n",
       "1                     12:00               05/01/04                  19:30   \n",
       "2                     12:00               05/01/04                  19:30   \n",
       "3                     12:30               05/01/04                  22:48   \n",
       "4                     12:30               05/01/04                  22:48   \n",
       "\n",
       "  Method of Reporting    ...    Quarter End (Result)  \\\n",
       "0              Letter    ...                     NaN   \n",
       "1               Phone    ...                   MAR04   \n",
       "2               Phone    ...                   SEP04   \n",
       "3               Phone    ...                   MAR04   \n",
       "4               Phone    ...                   SEP04   \n",
       "\n",
       "  Quarter Number (Calendar) (Result)  Quarter Number (Financial) (Result)  \\\n",
       "0                                NaN                                  NaN   \n",
       "1                                1.0                                  3.0   \n",
       "2                                3.0                                  1.0   \n",
       "3                                1.0                                  3.0   \n",
       "4                                3.0                                  1.0   \n",
       "\n",
       "  Year (Calendar) (Result)  Year (Financial) (Result) Incident Report Type  \\\n",
       "0                      NaN                        NaN                CRIME   \n",
       "1                   2004.0                    2003-04                CRIME   \n",
       "2                   2004.0                    2004-05                CRIME   \n",
       "3                   2004.0                    2003-04                CRIME   \n",
       "4                   2004.0                    2004-05                CRIME   \n",
       "\n",
       "  Source System Theft_Frm_Veh_flag                SVO Order_SVO  \n",
       "0           IMS                  N              Fraud      23.0  \n",
       "1           IMS                  N  Dwelling Burglary      11.0  \n",
       "2           IMS                  N                NaN       NaN  \n",
       "3           IMS                  N  Dwelling Burglary      11.0  \n",
       "4           IMS                  N                NaN       NaN  \n",
       "\n",
       "[5 rows x 110 columns]"
      ]
     },
     "execution_count": 7,
     "metadata": {},
     "output_type": "execute_result"
    }
   ],
   "source": [
    "offences.head()"
   ]
  },
  {
   "cell_type": "code",
   "execution_count": 8,
   "metadata": {
    "collapsed": true
   },
   "outputs": [],
   "source": [
    "## IGNORE THIS\n",
    "\n",
    "# Need a way to get only rows where placecode = D310,D315,D265,D215,D399(?)\n",
    "#relevant_locations=[\"D215\",\"D240\",\"D265\",\"D310\",\"D315\",'D399']\n",
    "\n",
    "#street_offences = pd.read_csv(\"OFFENCES.csv\",sep=',',nrows=1000);\n",
    "#offences.to_csv(\"offences_100.csv\",sep=',');\n",
    "#list(offences.columns.values)"
   ]
  },
  {
   "cell_type": "code",
   "execution_count": null,
   "metadata": {
    "collapsed": false
   },
   "outputs": [],
   "source": []
  },
  {
   "cell_type": "code",
   "execution_count": 9,
   "metadata": {
    "collapsed": false
   },
   "outputs": [
    {
     "data": {
      "text/plain": [
       "500970"
      ]
     },
     "execution_count": 9,
     "metadata": {},
     "output_type": "execute_result"
    }
   ],
   "source": [
    "rows_to_process = 10000\n",
    "\n",
    "\n",
    "# Break processing of OFFENCES.csv down in to ~100 steps\n",
    "# Removes the need to load the entire dataset in to memory\n",
    "# Takes a long time to process regardless\n",
    "# Takes Assault, Theft, Property Damage, Robbery and Drug offence rows\n",
    "# Make sure to output results to csv\n",
    "# Will need to remove domestic assault cases as they are not represented in the sydney data\n",
    "\n",
    "street_offences = pd.read_csv(\"OFFENCES.csv\",sep=',',nrows=rows_to_process);\n",
    "relevant_offences = street_offences[street_offences[\"Offence Group 3\"] == \"Assault\"]\n",
    "\n",
    "offences = pd.read_csv(\"OFFENCES.csv\",sep=',',nrows=10);\n",
    "\n",
    "header_title = list(offences.columns.values)\n",
    "\n",
    "for n in range(1,101):\n",
    "    street_offences = pd.read_csv(\"OFFENCES.csv\",sep=',',names=header_title,skiprows=rows_to_process*n,nrows=rows_to_process);\n",
    "    \n",
    "    street_assaults = street_offences[street_offences[\"Offence Group 3\"] == \"Assault\"]\n",
    "    thefts = street_offences[street_offences[\"Offence Group 3\"] == \"Theft\"]\n",
    "    property_damage = street_offences[street_offences[\"Offence Group 3\"] == \"Property Damage\"]\n",
    "    robberies = street_offences[street_offences[\"Offence Group 3\"] == \"Robbery\"]\n",
    "    drug_offences = street_offences[street_offences[\"Offence Group 3\"] == \"Drugs (Other)\"]\n",
    "    \n",
    "    \n",
    "    relevant_offences = relevant_offences.append(property_damage)\n",
    "    relevant_offences = relevant_offences.append(thefts)\n",
    "    relevant_offences = relevant_offences.append(robberies)\n",
    "    relevant_offences = relevant_offences.append(drug_offences)\n",
    "    relevant_offences = relevant_offences.append(street_assaults)\n",
    "    \n",
    "len(relevant_offences)"
   ]
  },
  {
   "cell_type": "code",
   "execution_count": 12,
   "metadata": {
    "collapsed": false
   },
   "outputs": [],
   "source": [
    "\n",
    "#relevant_offences.to_csv(path_or_buf='offences_cut.csv')"
   ]
  },
  {
   "cell_type": "code",
   "execution_count": 13,
   "metadata": {
    "collapsed": false
   },
   "outputs": [
    {
     "data": {
      "text/plain": [
       "array(['Non-Domestic Assault', 'Domestic Assault', 'Damage (Property)',\n",
       "       'Theft', 'Robbery (Non-Business)', 'Robbery (Business)',\n",
       "       'Drugs (Other)'], dtype=object)"
      ]
     },
     "execution_count": 13,
     "metadata": {},
     "output_type": "execute_result"
    }
   ],
   "source": [
    "relevant_offences['Offence Group 2'].unique()"
   ]
  },
  {
   "cell_type": "code",
   "execution_count": 14,
   "metadata": {
    "collapsed": true
   },
   "outputs": [],
   "source": [
    "relevant_offences = relevant_offences[relevant_offences[\"Offence Group 2\"]!=\"Domestic Assault\"]"
   ]
  },
  {
   "cell_type": "code",
   "execution_count": 15,
   "metadata": {
    "collapsed": false
   },
   "outputs": [
    {
     "data": {
      "text/plain": [
       "array(['Non-Domestic Assault', 'Damage (Property)', 'Theft',\n",
       "       'Robbery (Non-Business)', 'Robbery (Business)', 'Drugs (Other)'], dtype=object)"
      ]
     },
     "execution_count": 15,
     "metadata": {},
     "output_type": "execute_result"
    }
   ],
   "source": [
    "relevant_offences['Offence Group 2'].unique()"
   ]
  },
  {
   "cell_type": "code",
   "execution_count": 17,
   "metadata": {
    "collapsed": true
   },
   "outputs": [],
   "source": [
    "relevant_offences.to_csv(path_or_buf='offences_cut.csv')"
   ]
  },
  {
   "cell_type": "code",
   "execution_count": null,
   "metadata": {
    "collapsed": false
   },
   "outputs": [],
   "source": []
  },
  {
   "cell_type": "code",
   "execution_count": 4,
   "metadata": {
    "collapsed": true
   },
   "outputs": [],
   "source": [
    "relevant_offences = pd.read_csv('offences_cut.csv',sep=',')"
   ]
  },
  {
   "cell_type": "code",
   "execution_count": 5,
   "metadata": {
    "collapsed": false
   },
   "outputs": [
    {
     "data": {
      "text/plain": [
       "array(['Male', 'Unknown', 'Female', 'Indeterm'], dtype=object)"
      ]
     },
     "execution_count": 5,
     "metadata": {},
     "output_type": "execute_result"
    }
   ],
   "source": [
    "relevant_offences['Victim Sex'].unique()"
   ]
  },
  {
   "cell_type": "code",
   "execution_count": 7,
   "metadata": {
    "collapsed": true
   },
   "outputs": [],
   "source": [
    "relevant_offences = relevant_offences[relevant_offences[\"Victim Sex\"]!=\"Unknown\"]\n",
    "relevant_offences = relevant_offences[relevant_offences[\"Victim Sex\"]!=\"Indeterm\"]"
   ]
  },
  {
   "cell_type": "code",
   "execution_count": 8,
   "metadata": {
    "collapsed": true
   },
   "outputs": [],
   "source": [
    "relevant_offences.to_csv(path_or_buf='offences_cut_mf_only.csv')"
   ]
  },
  {
   "cell_type": "code",
   "execution_count": null,
   "metadata": {
    "collapsed": true
   },
   "outputs": [],
   "source": []
  }
 ],
 "metadata": {
  "anaconda-cloud": {},
  "kernelspec": {
   "display_name": "Python [Root]",
   "language": "python",
   "name": "Python [Root]"
  },
  "language_info": {
   "codemirror_mode": {
    "name": "ipython",
    "version": 2
   },
   "file_extension": ".py",
   "mimetype": "text/x-python",
   "name": "python",
   "nbconvert_exporter": "python",
   "pygments_lexer": "ipython2",
   "version": "2.7.12"
  }
 },
 "nbformat": 4,
 "nbformat_minor": 0
}
