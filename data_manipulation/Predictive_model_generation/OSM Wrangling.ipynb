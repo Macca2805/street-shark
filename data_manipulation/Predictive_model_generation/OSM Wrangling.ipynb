{
 "cells": [
  {
   "cell_type": "code",
   "execution_count": 2,
   "metadata": {
    "collapsed": true
   },
   "outputs": [],
   "source": [
    "import xml\n",
    "import xml.sax"
   ]
  },
  {
   "cell_type": "code",
   "execution_count": 10,
   "metadata": {
    "collapsed": true
   },
   "outputs": [],
   "source": [
    "class NodeHandler(xml.sax.ContentHandler):\n",
    "    def __init__(self):\n",
    "        self.CurrentData = \"\"\n",
    "        self.lat = \"\"\n",
    "        self.long = \"\"\n",
    "        self.features = \"\"\n",
    "        self.item_counter = 0\n",
    "        \n",
    "    def startElement(self, tag, attributes):\n",
    "        self.CurrentData = tag\n",
    "        \n",
    "        if tag == \"node\" and self.item_counter < 100:\n",
    "            self.item_counter += 1\n",
    "            print(\"Node {0}: lat - {1}, long - {2}\".format(\n",
    "                attributes[\"id\"],\n",
    "                attributes[\"lat\"],\n",
    "                attributes[\"lon\"]\n",
    "                ))\n",
    "    \n",
    "    def endElement(self, tag):\n",
    "        pass\n",
    "    \n",
    "    def characters(self, content):\n",
    "        pass\n",
    "    "
   ]
  },
  {
   "cell_type": "code",
   "execution_count": null,
   "metadata": {
    "collapsed": true
   },
   "outputs": [],
   "source": []
  },
  {
   "cell_type": "code",
   "execution_count": 11,
   "metadata": {
    "collapsed": false
   },
   "outputs": [
    {
     "name": "stdout",
     "output_type": "stream",
     "text": [
      "Node 324883: lat - -33.91767, long - 151.18883\n",
      "Node 324884: lat - -33.91085, long - 151.19492\n",
      "Node 624529: lat - -33.89763, long - 151.22774\n",
      "Node 624532: lat - -33.89724, long - 151.2289\n",
      "Node 624534: lat - -33.89731, long - 151.22797\n",
      "Node 624535: lat - -33.89693, long - 151.22981\n",
      "Node 624536: lat - -33.89621, long - 151.23079\n",
      "Node 624537: lat - -33.89533, long - 151.23147\n",
      "Node 624539: lat - -33.89463, long - 151.23222\n",
      "Node 624540: lat - -33.89434, long - 151.23275\n",
      "Node 624541: lat - -33.89404, long - 151.23399\n",
      "Node 624542: lat - -33.89408, long - 151.23529\n",
      "Node 624543: lat - -33.8972, long - 151.22664\n",
      "Node 624544: lat - -33.89825, long - 151.22802\n",
      "Node 624546: lat - -33.90009, long - 151.22774\n",
      "Node 624547: lat - -33.89895, long - 151.2279\n",
      "Node 624549: lat - -33.89922, long - 151.22781\n",
      "Node 624840: lat - -33.8886, long - 151.19883\n",
      "Node 624843: lat - -33.88994, long - 151.2079\n",
      "Node 624845: lat - -33.89138, long - 151.21166\n",
      "Node 624846: lat - -33.89176, long - 151.21446\n",
      "Node 624853: lat - -33.8949, long - 151.22088\n",
      "Node 624854: lat - -33.89544, long - 151.22197\n",
      "Node 624858: lat - -33.90076, long - 151.22798\n",
      "Node 624859: lat - -33.90108, long - 151.2282\n",
      "Node 624860: lat - -33.90236, long - 151.22936\n",
      "Node 624861: lat - -33.90352, long - 151.23078\n",
      "Node 624862: lat - -33.90414, long - 151.23162\n",
      "Node 624863: lat - -33.9045, long - 151.23238\n",
      "Node 624864: lat - -33.9047, long - 151.2333\n",
      "Node 624865: lat - -33.90464, long - 151.2345\n",
      "Node 624866: lat - -33.90436, long - 151.23541\n",
      "Node 624867: lat - -33.90386, long - 151.23628\n",
      "Node 624868: lat - -33.90335, long - 151.23689\n",
      "Node 624869: lat - -33.90291, long - 151.23778\n",
      "Node 624871: lat - -33.90116, long - 151.24082\n",
      "Node 624872: lat - -33.90007, long - 151.24117\n",
      "Node 624873: lat - -33.8992, long - 151.24102\n",
      "Node 624874: lat - -33.89847, long - 151.24089\n",
      "Node 624875: lat - -33.89755, long - 151.24042\n",
      "Node 624876: lat - -33.89654, long - 151.23955\n",
      "Node 624877: lat - -33.89586, long - 151.23885\n",
      "Node 624878: lat - -33.89502, long - 151.23777\n",
      "Node 624954: lat - -33.91381, long - 151.13709\n",
      "Node 771392: lat - -34.00147, long - 150.8402\n",
      "Node 771394: lat - -33.99749, long - 150.84588\n",
      "Node 771419: lat - -33.95337, long - 150.87787\n",
      "Node 771420: lat - -33.95212, long - 150.87918\n",
      "Node 771422: lat - -33.95097, long - 150.88098\n",
      "Node 771446: lat - -33.94159, long - 150.93974\n",
      "Node 771451: lat - -33.94494, long - 150.95075\n",
      "Node 771452: lat - -33.94571, long - 150.95322\n",
      "Node 771454: lat - -33.94617, long - 150.9558\n",
      "Node 771473: lat - -33.94719, long - 150.96867\n",
      "Node 771475: lat - -33.9465, long - 150.97183\n",
      "Node 771478: lat - -33.94558, long - 150.97515\n",
      "Node 771480: lat - -33.94515, long - 150.9776\n",
      "Node 771482: lat - -33.94437, long - 150.98305\n",
      "Node 771484: lat - -33.94342, long - 150.98995\n",
      "Node 771487: lat - -33.9435, long - 150.99269\n",
      "Node 771490: lat - -33.94354, long - 150.99734\n",
      "Node 771492: lat - -33.94317, long - 150.99914\n",
      "Node 771495: lat - -33.94229, long - 151.00127\n",
      "Node 771497: lat - -33.94023, long - 151.00525\n",
      "Node 771501: lat - -33.93968, long - 151.00725\n",
      "Node 771504: lat - -33.93955, long - 151.00936\n",
      "Node 771506: lat - -33.93987, long - 151.01174\n",
      "Node 771508: lat - -33.94071, long - 151.01722\n",
      "Node 771509: lat - -33.94098, long - 151.0207\n",
      "Node 771511: lat - -33.94076, long - 151.02375\n",
      "Node 771513: lat - -33.94032, long - 151.02694\n",
      "Node 771516: lat - -33.93989, long - 151.03039\n",
      "Node 771518: lat - -33.93995, long - 151.03297\n",
      "Node 771521: lat - -33.94042, long - 151.03667\n",
      "Node 771524: lat - -33.94081, long - 151.0398\n",
      "Node 771527: lat - -33.94109, long - 151.04195\n",
      "Node 771532: lat - -33.9422, long - 151.05042\n",
      "Node 771540: lat - -33.94354, long - 151.06264\n",
      "Node 771543: lat - -33.94363, long - 151.06717\n",
      "Node 771544: lat - -33.94362, long - 151.07127\n",
      "Node 771545: lat - -33.94356, long - 151.07413\n",
      "Node 8077977: lat - -34.03457, long - 151.08039\n",
      "Node 8077993: lat - -34.03203, long - 151.07631\n",
      "Node 8080650: lat - -34.01796, long - 151.09099\n",
      "Node 8087988: lat - -33.98739, long - 151.11135\n",
      "Node 8088646: lat - -33.91248, long - 151.09899\n",
      "Node 8088647: lat - -33.91205, long - 151.10014\n",
      "Node 8088648: lat - -33.91223, long - 151.10026\n",
      "Node 8088649: lat - -33.91174, long - 151.10141\n",
      "Node 8088650: lat - -33.91158, long - 151.10132\n",
      "Node 8088651: lat - -33.91136, long - 151.10184\n",
      "Node 8090352: lat - -33.91751, long - 151.06498\n",
      "Node 8090353: lat - -33.98856, long - 151.11213\n",
      "Node 8090357: lat - -33.99222, long - 151.11428\n",
      "Node 8090358: lat - -33.99292, long - 151.11454\n",
      "Node 8090359: lat - -33.99379, long - 151.11542\n",
      "Node 8090360: lat - -33.9949, long - 151.11664\n",
      "Node 8090361: lat - -33.9954, long - 151.11685\n",
      "Node 8090362: lat - -33.99593, long - 151.11688\n",
      "Node 8090363: lat - -33.99647, long - 151.11669\n"
     ]
    }
   ],
   "source": [
    "parser = xml.sax.make_parser()\n",
    "# parser.setFeature(xml.sax.handler.feature_namespaces, 0)\n",
    "Handler = NodeHandler()\n",
    "parser.setContentHandler(Handler)\n",
    "parser.parse(\"sydney.osm 2\")"
   ]
  },
  {
   "cell_type": "markdown",
   "metadata": {},
   "source": [
    "# Pulling out lat and long data for nodes "
   ]
  },
  {
   "cell_type": "code",
   "execution_count": 1,
   "metadata": {
    "collapsed": false
   },
   "outputs": [],
   "source": [
    "# Can we store all of the lat and long information?\n",
    "from xml.etree import ElementTree\n",
    "\n",
    "counter = 0\n",
    "with open('sydney.osm 2', 'rt') as f:\n",
    "    tree = ElementTree.parse(f)\n",
    "    \n",
    "node_location = dict()\n",
    "    \n",
    "for node in tree.iter():\n",
    "    # two kinds of nodes here - xml node and our point nodes\n",
    "    if node.tag == \"node\":\n",
    "        node_info = {\n",
    "            \"lat\": node.attrib[\"lat\"],\n",
    "            \"lon\": node.attrib[\"lon\"],\n",
    "            }\n",
    "        node_location[node.attrib[\"id\"]] = node_info"
   ]
  },
  {
   "cell_type": "code",
   "execution_count": 2,
   "metadata": {
    "collapsed": false
   },
   "outputs": [
    {
     "name": "stdout",
     "output_type": "stream",
     "text": [
      "3937343779\n",
      "2355571594\n",
      "3429583178\n",
      "4292255199\n",
      "2689506166\n",
      "2052452153\n",
      "4030433257\n",
      "1856288779\n",
      "1024370651\n",
      "1153939777\n",
      "1782392661\n",
      "3203965163\n",
      "4157488127\n",
      "4246224417\n",
      "1582092192\n",
      "1190215004\n",
      "774465516\n",
      "4097655520\n",
      "1869430227\n",
      "2274973310\n",
      "4100881837\n",
      "81118263\n",
      "1857106510\n",
      "4106943159\n",
      "2121992411\n",
      "3996652522\n",
      "2644423503\n",
      "1832476531\n",
      "4192898782\n",
      "1835296082\n",
      "2526164161\n",
      "2822302973\n",
      "1884919116\n",
      "1131889515\n",
      "361307256\n",
      "17604321\n",
      "288788017\n",
      "3919297563\n",
      "612032412\n",
      "1215639455\n",
      "252169095\n",
      "1141657643\n",
      "1844480927\n",
      "3766348471\n",
      "1695379615\n",
      "2896460892\n",
      "2820152558\n",
      "92597705\n",
      "913079168\n",
      "4054113975\n",
      "2139776894\n",
      "1239442425\n",
      "2334059840\n",
      "599454616\n",
      "1152070305\n",
      "2980725968\n",
      "2757776529\n",
      "3240555687\n",
      "1611285808\n",
      "1836547351\n",
      "2117157082\n",
      "1222946273\n",
      "616580876\n",
      "1033533392\n",
      "4047651656\n",
      "245844854\n",
      "2524023913\n",
      "1827326780\n",
      "3393287520\n",
      "1247828858\n",
      "3815456508\n",
      "1128844549\n",
      "3703981789\n",
      "18260719\n",
      "1865350042\n",
      "1299461267\n",
      "2505500685\n",
      "1875310669\n",
      "443617362\n",
      "742630978\n",
      "577455970\n",
      "616051070\n",
      "3870563403\n",
      "1867764925\n",
      "1838908860\n",
      "1202465252\n",
      "1099233400\n",
      "2978564231\n",
      "1017843287\n",
      "1912764945\n",
      "2354546844\n",
      "1146610899\n",
      "458446698\n",
      "1893943572\n",
      "795276527\n",
      "1116383115\n",
      "2130285401\n",
      "3830453595\n",
      "1832978787\n",
      "1846292855\n"
     ]
    }
   ],
   "source": [
    "counter = 0\n",
    "for node in node_location:\n",
    "    if counter < 100:\n",
    "        print(node)\n",
    "        counter += 1"
   ]
  },
  {
   "cell_type": "code",
   "execution_count": 3,
   "metadata": {
    "collapsed": false
   },
   "outputs": [
    {
     "data": {
      "text/plain": [
       "963833"
      ]
     },
     "execution_count": 3,
     "metadata": {},
     "output_type": "execute_result"
    }
   ],
   "source": [
    "len(node_location)"
   ]
  },
  {
   "cell_type": "markdown",
   "metadata": {},
   "source": [
    "# Pulling out ways"
   ]
  },
  {
   "cell_type": "code",
   "execution_count": 4,
   "metadata": {
    "collapsed": false
   },
   "outputs": [
    {
     "name": "stdout",
     "output_type": "stream",
     "text": [
      "nd\n",
      "nd\n",
      "tag\n",
      "tag\n",
      "tag\n"
     ]
    }
   ],
   "source": [
    "with open('sydney.osm 2', 'rt') as f:\n",
    "    tree = ElementTree.parse(f)\n",
    "    \n",
    "way_data = dict()\n",
    "    \n",
    "for node in tree.iter():\n",
    "    # two kinds of nodes here - xml node and our point nodes\n",
    "    if node.tag == \"way\":\n",
    "        reference_node = node\n",
    "        for subnode in node:\n",
    "            print(subnode.tag)\n",
    "        break\n",
    "        #way_info = {\n",
    "        #    \"name\": node.attrib[\"name\"]\n",
    "        #    \"lat\": node.attrib[\"lat\"],\n",
    "        #    \"lon\": node.attrib[\"lon\"],\n",
    "        #    }\n",
    "        #node_location[node.attrib[\"id\"]] = node_info"
   ]
  },
  {
   "cell_type": "raw",
   "metadata": {},
   "source": [
    "print(reference_node)"
   ]
  },
  {
   "cell_type": "code",
   "execution_count": 5,
   "metadata": {
    "collapsed": false
   },
   "outputs": [
    {
     "name": "stdout",
     "output_type": "stream",
     "text": [
      "dict_keys(['ref'])\n",
      "1805891935\n",
      "dict_keys(['ref'])\n",
      "1805891958\n",
      "dict_keys(['v', 'k'])\n"
     ]
    },
    {
     "ename": "KeyError",
     "evalue": "'ref'",
     "output_type": "error",
     "traceback": [
      "\u001b[0;31m---------------------------------------------------------------------------\u001b[0m",
      "\u001b[0;31mKeyError\u001b[0m                                  Traceback (most recent call last)",
      "\u001b[0;32m<ipython-input-5-347253014b86>\u001b[0m in \u001b[0;36m<module>\u001b[0;34m()\u001b[0m\n\u001b[1;32m      1\u001b[0m \u001b[0;32mfor\u001b[0m \u001b[0msubnode\u001b[0m \u001b[0;32min\u001b[0m \u001b[0mreference_node\u001b[0m\u001b[0;34m:\u001b[0m\u001b[0;34m\u001b[0m\u001b[0m\n\u001b[1;32m      2\u001b[0m     \u001b[0mprint\u001b[0m\u001b[0;34m(\u001b[0m\u001b[0msubnode\u001b[0m\u001b[0;34m.\u001b[0m\u001b[0mattrib\u001b[0m\u001b[0;34m.\u001b[0m\u001b[0mkeys\u001b[0m\u001b[0;34m(\u001b[0m\u001b[0;34m)\u001b[0m\u001b[0;34m)\u001b[0m\u001b[0;34m\u001b[0m\u001b[0m\n\u001b[0;32m----> 3\u001b[0;31m     \u001b[0mprint\u001b[0m\u001b[0;34m(\u001b[0m\u001b[0msubnode\u001b[0m\u001b[0;34m.\u001b[0m\u001b[0mattrib\u001b[0m\u001b[0;34m[\u001b[0m\u001b[0;34m'ref'\u001b[0m\u001b[0;34m]\u001b[0m\u001b[0;34m)\u001b[0m\u001b[0;34m\u001b[0m\u001b[0m\n\u001b[0m",
      "\u001b[0;31mKeyError\u001b[0m: 'ref'"
     ]
    }
   ],
   "source": [
    "for subnode in reference_node:\n",
    "    print(subnode.attrib.keys())\n",
    "    print(subnode.attrib['ref'])\n"
   ]
  },
  {
   "cell_type": "code",
   "execution_count": 7,
   "metadata": {
    "collapsed": false
   },
   "outputs": [],
   "source": [
    "# First prototype...\n",
    "\n",
    "with open('sydney.osm 2', 'rt') as f:\n",
    "    tree = ElementTree.parse(f)\n",
    "    \n",
    "way_data = dict()\n",
    "counter = 0\n",
    "    \n",
    "for node in tree.iter():\n",
    "    # two kinds of nodes here - xml node and our point nodes\n",
    "    if counter == 100:\n",
    "        break\n",
    "        \n",
    "    if node.tag == \"way\":\n",
    "        counter += 1\n",
    "        flag_to_keep = False\n",
    "        polyline = list()\n",
    "        way_info = dict()\n",
    "        for subnode in node:\n",
    "            # Try and pull out node locations\n",
    "            try:\n",
    "                node_ref = subnode.attrib['ref']\n",
    "                location = {\n",
    "                    \"lat\": node_location[node_ref]['lat'],\n",
    "                    \"lon\": node_location[node_ref]['lon']\n",
    "                }\n",
    "                polyline.append(location)\n",
    "            except:\n",
    "                pass\n",
    "            \n",
    "            # Try and pull out street name\n",
    "            try:\n",
    "                key = subnode.attrib['k']\n",
    "                if key == 'name':\n",
    "                    way_info[\"name\"] = subnode.attrib['v']\n",
    "                # Unless we have the highway key, it's not a road.\n",
    "                if key == 'highway':\n",
    "                    flag_to_keep = True\n",
    "            except:\n",
    "                pass\n",
    "\n",
    "        # Bundle this into the summary dict\n",
    "        way_info[\"points\"] = polyline\n",
    "                    \n",
    "        if flag_to_keep:\n",
    "            way_data[node.attrib[\"id\"]] = way_info\n",
    "        #way_info = {\n",
    "        #    \"name\": node.attrib[\"name\"]\n",
    "        #    \"lat\": node.attrib[\"lat\"],\n",
    "        #    \"lon\": node.attrib[\"lon\"],\n",
    "        #    }\n",
    "        #node_location[node.attrib[\"id\"]] = node_info"
   ]
  },
  {
   "cell_type": "code",
   "execution_count": 8,
   "metadata": {
    "collapsed": false
   },
   "outputs": [
    {
     "data": {
      "text/plain": [
       "{'lat': '-33.84138', 'lon': '151.20866'}"
      ]
     },
     "execution_count": 8,
     "metadata": {},
     "output_type": "execute_result"
    }
   ],
   "source": [
    "node_location[\"1559579795\"]"
   ]
  },
  {
   "cell_type": "code",
   "execution_count": null,
   "metadata": {
    "collapsed": false
   },
   "outputs": [],
   "source": [
    "print(way_data)"
   ]
  },
  {
   "cell_type": "code",
   "execution_count": 9,
   "metadata": {
    "collapsed": false
   },
   "outputs": [],
   "source": [
    "# First prototype...\n",
    "\n",
    "with open('sydney.osm 2', 'rt') as f:\n",
    "    tree = ElementTree.parse(f)\n",
    "    \n",
    "way_data = dict()\n",
    "    \n",
    "for node in tree.iter():\n",
    "    # two kinds of nodes here - xml node and our point nodes\n",
    "        \n",
    "    if node.tag == \"way\":\n",
    "        counter += 1\n",
    "        flag_to_keep = False\n",
    "        polyline = list()\n",
    "        way_info = dict()\n",
    "        for subnode in node:\n",
    "            # Try and pull out node locations\n",
    "            try:\n",
    "                node_ref = subnode.attrib['ref']\n",
    "                location = {\n",
    "                    \"lat\": node_location[node_ref]['lat'],\n",
    "                    \"lon\": node_location[node_ref]['lon']\n",
    "                }\n",
    "                polyline.append(location)\n",
    "            except:\n",
    "                pass\n",
    "            \n",
    "            # Try and pull out street name\n",
    "            try:\n",
    "                key = subnode.attrib['k']\n",
    "                if key == 'name':\n",
    "                    way_info[\"name\"] = subnode.attrib['v']\n",
    "                # Unless we have the highway key, it's not a road.\n",
    "                if key == 'highway':\n",
    "                    flag_to_keep = True\n",
    "            except:\n",
    "                pass\n",
    "\n",
    "        # Bundle this into the summary dict\n",
    "        way_info[\"points\"] = polyline\n",
    "                    \n",
    "        if flag_to_keep:\n",
    "            way_data[node.attrib[\"id\"]] = way_info\n",
    "        #way_info = {\n",
    "        #    \"name\": node.attrib[\"name\"]\n",
    "        #    \"lat\": node.attrib[\"lat\"],\n",
    "        #    \"lon\": node.attrib[\"lon\"],\n",
    "        #    }\n",
    "        #node_location[node.attrib[\"id\"]] = node_info"
   ]
  },
  {
   "cell_type": "code",
   "execution_count": 10,
   "metadata": {
    "collapsed": false
   },
   "outputs": [
    {
     "data": {
      "text/plain": [
       "88167"
      ]
     },
     "execution_count": 10,
     "metadata": {},
     "output_type": "execute_result"
    }
   ],
   "source": [
    "len(way_data)\n"
   ]
  },
  {
   "cell_type": "code",
   "execution_count": 11,
   "metadata": {
    "collapsed": true
   },
   "outputs": [],
   "source": [
    "# There might be streets in here that are outside of our assault data. \n",
    "# Therefore filter these ways...\n",
    "import pandas as pd"
   ]
  },
  {
   "cell_type": "code",
   "execution_count": 12,
   "metadata": {
    "collapsed": false
   },
   "outputs": [
    {
     "name": "stdout",
     "output_type": "stream",
     "text": [
      "151.1749663\n",
      "151.23301\n"
     ]
    }
   ],
   "source": [
    "geocrime_data = pd.read_csv(\"geocrimedata_sydney.csv\", usecols=(\"bcsrgclat\",\"bcsrgclng\"))\n",
    "min_lat = geocrime_data[\"bcsrgclat\"].min()\n",
    "max_lat = geocrime_data[\"bcsrgclat\"].max() \n",
    "min_lon = geocrime_data[\"bcsrgclng\"].min() \n",
    "max_lon = geocrime_data[\"bcsrgclng\"].max()\n",
    "print(min_lon)\n",
    "print(max_lon)"
   ]
  },
  {
   "cell_type": "code",
   "execution_count": 14,
   "metadata": {
    "collapsed": false
   },
   "outputs": [
    {
     "name": "stdout",
     "output_type": "stream",
     "text": [
      "1000\n",
      "2000\n",
      "3000\n",
      "4000\n",
      "5000\n",
      "6000\n",
      "7000\n",
      "8000\n",
      "9000\n",
      "10000\n",
      "11000\n",
      "12000\n",
      "13000\n",
      "14000\n",
      "15000\n",
      "16000\n",
      "17000\n",
      "18000\n",
      "19000\n",
      "20000\n",
      "21000\n",
      "22000\n",
      "23000\n",
      "24000\n",
      "25000\n",
      "26000\n",
      "27000\n",
      "28000\n",
      "29000\n",
      "30000\n",
      "31000\n",
      "32000\n",
      "33000\n",
      "34000\n",
      "35000\n",
      "36000\n",
      "37000\n",
      "38000\n",
      "39000\n",
      "40000\n",
      "41000\n",
      "42000\n",
      "43000\n",
      "44000\n",
      "45000\n",
      "46000\n",
      "47000\n",
      "48000\n",
      "49000\n",
      "50000\n",
      "51000\n",
      "52000\n",
      "53000\n",
      "54000\n",
      "55000\n",
      "56000\n",
      "57000\n",
      "58000\n",
      "59000\n",
      "60000\n",
      "61000\n",
      "62000\n",
      "63000\n",
      "64000\n",
      "65000\n",
      "66000\n",
      "67000\n",
      "68000\n",
      "69000\n",
      "70000\n",
      "71000\n",
      "72000\n",
      "73000\n",
      "74000\n",
      "75000\n",
      "76000\n",
      "77000\n",
      "78000\n",
      "79000\n",
      "80000\n",
      "81000\n",
      "82000\n",
      "83000\n",
      "84000\n",
      "85000\n",
      "86000\n",
      "87000\n",
      "88000\n"
     ]
    }
   ],
   "source": [
    "reduced_way_data = way_data.copy()\n",
    "counter = 0\n",
    "for way in list(way_data):\n",
    "    counter += 1\n",
    "    if counter % 1000 == 0:\n",
    "        print(counter)\n",
    "    keep_way = False\n",
    "    for point in way_data[way][\"points\"]:\n",
    "        good_lat = False\n",
    "        good_lon = False\n",
    "        if float(point[\"lat\"]) > min_lat and float(point[\"lat\"]) < max_lat:\n",
    "            good_lat = True\n",
    "        if float(point[\"lon\"]) > min_lon and float(point[\"lon\"]) < max_lon:\n",
    "            good_lon = True\n",
    "        if good_lat and good_lon:\n",
    "            keep_way = True\n",
    "            break\n",
    "        \n",
    "            \n",
    "    if keep_way is False:\n",
    "        del reduced_way_data[way]"
   ]
  },
  {
   "cell_type": "code",
   "execution_count": 15,
   "metadata": {
    "collapsed": false
   },
   "outputs": [
    {
     "name": "stdout",
     "output_type": "stream",
     "text": [
      "8485\n"
     ]
    }
   ],
   "source": [
    "print(len(reduced_way_data))"
   ]
  },
  {
   "cell_type": "markdown",
   "metadata": {},
   "source": [
    "# Outputting datasets "
   ]
  },
  {
   "cell_type": "code",
   "execution_count": 16,
   "metadata": {
    "collapsed": false
   },
   "outputs": [],
   "source": [
    "import json\n",
    "with open(\"waydata.json\", 'w') as f:\n",
    "    json.dump(way_data, f, indent = 1)\n",
    "with open(\"reducedwaydata.json\", 'w') as f:\n",
    "    json.dump(reduced_way_data, f, indent = 1)"
   ]
  },
  {
   "cell_type": "code",
   "execution_count": 52,
   "metadata": {
    "collapsed": false
   },
   "outputs": [],
   "source": [
    "with open(\"node_data.json\", 'w') as f:\n",
    "    json.dump(node_location, f, indent = 1)"
   ]
  },
  {
   "cell_type": "markdown",
   "metadata": {},
   "source": [
    "# Non-assault Feature Selection\n",
    "\n",
    "If we can map assaults to a road, it stands to reason that we should be able to map bars, police stations, etc."
   ]
  },
  {
   "cell_type": "code",
   "execution_count": null,
   "metadata": {
    "collapsed": true
   },
   "outputs": [],
   "source": [
    "# Can we store all of the lat and long information?\n",
    "from xml.etree import ElementTree\n",
    "\n",
    "counter = 0\n",
    "with open('sydney.osm 2', 'rt') as f:\n",
    "    tree = ElementTree.parse(f)\n",
    "    \n",
    "node_location = dict()\n",
    "    \n",
    "for node in tree.iter():\n",
    "    # two kinds of nodes here - xml node and our point nodes\n",
    "    if node.tag == \"node\":\n",
    "        node_info = {\n",
    "            \"lat\": node.attrib[\"lat\"],\n",
    "            \"lon\": node.attrib[\"lon\"],\n",
    "            }\n",
    "        node_location[node.attrib[\"id\"]] = node_info"
   ]
  },
  {
   "cell_type": "code",
   "execution_count": 19,
   "metadata": {
    "collapsed": false
   },
   "outputs": [],
   "source": [
    "from xml.etree import ElementTree\n",
    "\n",
    "\n",
    "with open('sydney.osm 2', 'rt') as f:\n",
    "    tree = ElementTree.parse(f)\n",
    "    \n",
    "feature_location = dict()\n",
    "# LIST THESE!\n",
    "relevent_amenities = (\"police\", \"atm\", \"place_of_worship\", \"hospital\",\n",
    "                     \"restaurant\", \"drinking_water\", \"fast_food\", \"pub\", \"bar\",\n",
    "                     \"parking\", \"taxi\", \"nightclub\")\n",
    "\n",
    "counter = 1\n",
    "for node in tree.iter():\n",
    "    # two kinds of nodes here - xml node and our point nodes\n",
    "    if counter % 1000 == 0:\n",
    "        print(counter)\n",
    "        counter +=1\n",
    "    if node.tag == \"node\":\n",
    "        node_info = {\n",
    "            \"lat\": node.attrib[\"lat\"],\n",
    "            \"lon\": node.attrib[\"lon\"]\n",
    "        }\n",
    "        flag_to_keep = False\n",
    "        polyline = list()\n",
    "        way_info = dict()\n",
    "        for subnode in node:\n",
    "            # Try and pull out feature information\n",
    "            try:\n",
    "                key = subnode.attrib['k']\n",
    "                if key == 'amenity':\n",
    "                    if subnode.attrib['v'] in relevent_amenities:\n",
    "                        node_info[\"feature\"] = subnode.attrib['v']\n",
    "                        flag_to_keep = True\n",
    "                \n",
    "                if key == 'highway':\n",
    "                    if subnode.attrib['v'] == \"bus_stop\":\n",
    "                        node_info[\"feature\"] = \"bus_stop\"\n",
    "                        flag_to_keep = True\n",
    "                \n",
    "                if key == \"shop\":\n",
    "                    node_info[\"feature\"] = \"shop\"\n",
    "                    flag_to_keep = True\n",
    "                \n",
    "                if key == \"tourism\":\n",
    "                    if subnode.attrib['v'] == \"hostel\":\n",
    "                        node_info[\"feature\"] = \"hostel\"\n",
    "                        flag_to_keep = True\n",
    "\n",
    "            except:\n",
    "                pass\n",
    "                    \n",
    "        if flag_to_keep:\n",
    "            feature_location[node.attrib[\"id\"]] = node_info"
   ]
  },
  {
   "cell_type": "code",
   "execution_count": 20,
   "metadata": {
    "collapsed": false
   },
   "outputs": [
    {
     "name": "stdout",
     "output_type": "stream",
     "text": [
      "0 bus_stop -33.72255 151.00261\n",
      "1 bus_stop -33.915 150.9022\n",
      "2 bus_stop -33.87317 151.20844\n",
      "3 bus_stop -33.82457 151.08788\n",
      "4 fast_food -34.03484 151.10019\n",
      "5 bus_stop -33.74453 151.00059\n",
      "6 bus_stop -33.912 151.22337\n",
      "7 shop -33.87487 151.20615\n",
      "8 bus_stop -33.82755 151.01302\n",
      "9 bus_stop -33.92878 150.96563\n",
      "10 bus_stop -33.88794 150.97392\n",
      "11 pub -33.86868 151.20442\n",
      "12 bus_stop -33.76854 150.9915\n",
      "13 bus_stop -33.8627 150.95699\n",
      "14 bus_stop -33.80555 151.06995\n",
      "15 shop -33.88704 151.2154\n",
      "16 bus_stop -33.76238 150.99179\n",
      "17 bus_stop -33.81901 151.01663\n",
      "18 atm -34.01652 151.06654\n",
      "19 bus_stop -33.77638 151.06795\n",
      "20 bus_stop -33.84243 150.94967\n",
      "21 bus_stop -33.94499 151.11348\n",
      "22 parking -33.79319 150.89681\n",
      "23 bus_stop -33.93003 151.03807\n",
      "24 restaurant -33.84065 151.20673\n",
      "25 bus_stop -33.80836 150.93912\n",
      "26 bus_stop -33.76899 150.93223\n",
      "27 shop -33.87061 151.21878\n",
      "28 bus_stop -33.94109 151.11583\n",
      "29 drinking_water -33.84059 151.21566\n",
      "30 shop -33.88747 151.12233\n",
      "31 hospital -33.82745 151.23179\n",
      "32 place_of_worship -33.89958 151.11552\n",
      "33 shop -33.89407 151.22852\n",
      "34 bus_stop -33.85621 150.99464\n",
      "35 fast_food -33.88457 151.1362\n",
      "36 shop -33.8968 151.19948\n",
      "37 parking -33.68015 150.91061\n",
      "38 bus_stop -33.74063 150.89356\n",
      "39 bus_stop -33.86693 150.9543\n",
      "40 bus_stop -33.87724 151.1023\n",
      "41 drinking_water -34.00176 151.06217\n",
      "42 place_of_worship -33.75257 151.28607\n",
      "43 shop -33.987 151.11245\n",
      "44 restaurant -33.96068 151.15626\n",
      "45 bus_stop -33.75971 151.04134\n",
      "46 bus_stop -33.80336 151.03734\n",
      "47 bus_stop -33.79054 151.05132\n",
      "48 bus_stop -33.76006 150.89767\n",
      "49 bus_stop -33.79034 151.06808\n",
      "50 drinking_water -34.00971 151.05638\n",
      "51 restaurant -33.95422 151.05179\n",
      "52 bus_stop -34.00512 151.01352\n",
      "53 fast_food -33.93723 151.16635\n",
      "54 shop -33.88632 151.15829\n",
      "55 bus_stop -33.9113 151.15785\n",
      "56 bus_stop -33.82386 150.9949\n",
      "57 shop -33.88311 151.19406\n",
      "58 shop -33.88501 151.2126\n",
      "59 bus_stop -33.87575 150.93392\n",
      "60 parking -33.84826 150.85871\n",
      "61 shop -33.88512 151.14839\n",
      "62 shop -33.79613 151.00175\n",
      "63 restaurant -33.82268 150.92783\n",
      "64 bus_stop -33.72982 150.91407\n",
      "65 bus_stop -33.96204 151.04373\n",
      "66 bus_stop -33.80714 151.08212\n",
      "67 bus_stop -33.85213 151.04854\n",
      "68 bus_stop -33.77026 151.28494\n",
      "69 bus_stop -33.77495 150.97893\n",
      "70 parking -34.04549 151.12508\n",
      "71 shop -33.84852 151.21161\n",
      "72 bus_stop -33.92303 150.87941\n",
      "73 bus_stop -33.8789 150.89196\n",
      "74 bus_stop -33.76825 150.90712\n",
      "75 shop -33.80339 151.00621\n",
      "76 bus_stop -33.73868 151.0008\n",
      "77 shop -33.88503 151.21281\n",
      "78 pub -33.73164 151.30122\n",
      "79 pub -33.8642 151.17915\n",
      "80 bus_stop -33.72998 151.04856\n",
      "81 bus_stop -33.7017 150.90301\n",
      "82 bus_stop -33.87106 151.09813\n",
      "83 bus_stop -33.91756 151.10416\n",
      "84 bus_stop -33.92735 150.91061\n",
      "85 bus_stop -33.96095 151.04912\n",
      "86 fast_food -33.83561 150.98698\n",
      "87 bus_stop -33.89203 151.2161\n",
      "88 pub -33.88447 151.21116\n",
      "89 bus_stop -34.02545 151.06814\n",
      "90 bus_stop -33.89421 151.1135\n",
      "91 bus_stop -33.88019 151.18717\n",
      "92 bus_stop -33.70857 151.00644\n",
      "93 pub -33.80526 151.17899\n",
      "94 bus_stop -33.70934 150.96005\n",
      "95 bus_stop -33.92501 151.2353\n",
      "96 fast_food -33.95549 150.87198\n",
      "97 parking -33.91922 151.22877\n",
      "98 bus_stop -33.96513 151.09862\n",
      "99 bus_stop -33.73859 151.06538\n"
     ]
    }
   ],
   "source": [
    "counter = 0\n",
    "for feature in feature_location:\n",
    "    print(counter, feature_location[feature]['feature'], feature_location[feature]['lat'], feature_location[feature]['lon'])\n",
    "    counter += 1\n",
    "    if counter == 100:\n",
    "        break"
   ]
  },
  {
   "cell_type": "code",
   "execution_count": 21,
   "metadata": {
    "collapsed": false
   },
   "outputs": [],
   "source": [
    "import json\n",
    "with open(\"featuredata.json\", 'w') as f:\n",
    "    json.dump(feature_location, f, indent = 1)"
   ]
  },
  {
   "cell_type": "code",
   "execution_count": null,
   "metadata": {
    "collapsed": true
   },
   "outputs": [],
   "source": []
  }
 ],
 "metadata": {
  "kernelspec": {
   "display_name": "Python 3",
   "language": "python",
   "name": "python3"
  },
  "language_info": {
   "codemirror_mode": {
    "name": "ipython",
    "version": 3
   },
   "file_extension": ".py",
   "mimetype": "text/x-python",
   "name": "python",
   "nbconvert_exporter": "python",
   "pygments_lexer": "ipython3",
   "version": "3.5.1"
  }
 },
 "nbformat": 4,
 "nbformat_minor": 0
}
